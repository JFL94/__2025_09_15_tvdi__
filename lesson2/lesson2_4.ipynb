{
 "cells": [
  {
   "cell_type": "code",
   "execution_count": 1,
   "id": "4a4d1ccc",
   "metadata": {},
   "outputs": [],
   "source": [
    "# 定義類別\n",
    "\n",
    "class Car():\n",
    "    pass"
   ]
  },
  {
   "cell_type": "code",
   "execution_count": 2,
   "id": "ddfb8bba",
   "metadata": {},
   "outputs": [
    {
     "data": {
      "text/plain": [
       "__main__.Car"
      ]
     },
     "execution_count": 2,
     "metadata": {},
     "output_type": "execute_result"
    }
   ],
   "source": [
    "car1 = Car()\n",
    "type(car1)"
   ]
  },
  {
   "cell_type": "code",
   "execution_count": 11,
   "id": "c7e4418f",
   "metadata": {},
   "outputs": [],
   "source": [
    "class Dog:\n",
    "    def __init__(self, name, age):\n",
    "        self.name = name\n",
    "        self.age = age\n",
    "\n",
    "    def bark(self): #實體方法\n",
    "        return f\"{self.name} 汪汪叫!\""
   ]
  },
  {
   "cell_type": "code",
   "execution_count": 12,
   "id": "fe25818c",
   "metadata": {},
   "outputs": [
    {
     "name": "stdout",
     "output_type": "stream",
     "text": [
      "Buddy\n",
      "3\n",
      "Buddy 汪汪叫!\n"
     ]
    }
   ],
   "source": [
    "dog1 = Dog(\"Buddy\", 3)\n",
    "print(dog1.name)  # 輸出: Buddy\n",
    "print(dog1.age)   # 輸出: 3\n",
    "print(dog1.bark())  # 輸出: Buddy 汪汪叫!"
   ]
  },
  {
   "cell_type": "code",
   "execution_count": 13,
   "id": "b8d6b0db",
   "metadata": {},
   "outputs": [
    {
     "name": "stdout",
     "output_type": "stream",
     "text": [
      "Max\n",
      "5\n"
     ]
    },
    {
     "data": {
      "text/plain": [
       "'Max 汪汪叫!'"
      ]
     },
     "execution_count": 13,
     "metadata": {},
     "output_type": "execute_result"
    }
   ],
   "source": [
    "dog2 = Dog(\"Max\", 5)\n",
    "print(dog2.name)  # 輸出: Max\n",
    "print(dog2.age)   # 輸出: 5\n",
    "dog2.bark()  # 輸出: Max 汪汪叫!"
   ]
  },
  {
   "cell_type": "code",
   "execution_count": 14,
   "id": "3c20ac10",
   "metadata": {},
   "outputs": [
    {
     "name": "stdout",
     "output_type": "stream",
     "text": [
      "Bella\n",
      "2\n"
     ]
    },
    {
     "data": {
      "text/plain": [
       "'Bella 汪汪叫!'"
      ]
     },
     "execution_count": 14,
     "metadata": {},
     "output_type": "execute_result"
    }
   ],
   "source": [
    "dog3 = Dog(\"Bella\", 2)\n",
    "print(dog3.name)  # 輸出: Bella\n",
    "print(dog3.age)   # 輸出: 2\n",
    "dog3.bark()  # 輸出: Bella 汪汪叫!"
   ]
  },
  {
   "cell_type": "code",
   "execution_count": 17,
   "id": "c7206e2e",
   "metadata": {},
   "outputs": [
    {
     "data": {
      "text/plain": [
       "'ABC'"
      ]
     },
     "execution_count": 17,
     "metadata": {},
     "output_type": "execute_result"
    }
   ],
   "source": [
    "\"Abc\".lower() #字串的實體方法\n",
    "\"Abc\".upper() #字串的實體方法"
   ]
  }
 ],
 "metadata": {
  "kernelspec": {
   "display_name": "__2025_09_15_tvdi__",
   "language": "python",
   "name": "python3"
  },
  "language_info": {
   "codemirror_mode": {
    "name": "ipython",
    "version": 3
   },
   "file_extension": ".py",
   "mimetype": "text/x-python",
   "name": "python",
   "nbconvert_exporter": "python",
   "pygments_lexer": "ipython3",
   "version": "3.10.18"
  }
 },
 "nbformat": 4,
 "nbformat_minor": 5
}

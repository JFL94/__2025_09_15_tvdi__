{
 "cells": [
  {
   "cell_type": "code",
   "execution_count": 1,
   "id": "5d1d083d",
   "metadata": {},
   "outputs": [
    {
     "name": "stdout",
     "output_type": "stream",
     "text": [
      "Hello! Python!\n"
     ]
    }
   ],
   "source": [
    "print(\"Hello! Python!\")"
   ]
  },
  {
   "cell_type": "code",
   "execution_count": 4,
   "id": "f5d0994b",
   "metadata": {},
   "outputs": [
    {
     "name": "stdout",
     "output_type": "stream",
     "text": [
      "        *        \n",
      "       ***       \n",
      "      *****      \n",
      "     *********   \n",
      "    ***********  \n",
      "   ************* \n",
      "        |||      \n",
      "       =====     \n"
     ]
    }
   ],
   "source": [
    "# 定義一個沒有參數,沒有傳出值的function\n",
    "# todo:建立一個可以使用print()劃出聖誕樹的function\n",
    "# 必需要有說明docstring\n",
    "def draw_christmas_tree():\n",
    "    \"\"\"\n",
    "    這個函數會印出一個簡單的 ASCII 藝術聖誕樹。\n",
    "    \"\"\"\n",
    "    print(\"        *        \")\n",
    "    print(\"       ***       \")\n",
    "    print(\"      *****      \")\n",
    "    print(\"     *********   \")\n",
    "    print(\"    ***********  \")\n",
    "    print(\"   ************* \")\n",
    "    print(\"        |||      \")\n",
    "    print(\"       =====     \")\n",
    "\n",
    "draw_christmas_tree()\n",
    "    "
   ]
  },
  {
   "cell_type": "code",
   "execution_count": 5,
   "id": "81026523",
   "metadata": {},
   "outputs": [],
   "source": [
    "# 自訂的function,有參數,有傳出值\n",
    "# todo:建立一個簡單問候函數\n",
    "# 名稱:greet_person(snake_case)\n",
    "# 參數:name,greeting,greeting有預設值\n",
    "def greet_person(name:str, greeting:str=\"哈囉\"):\n",
    "    \"\"\"\n",
    "    這個函數會根據提供的名字和問候語來打印問候信息。\n",
    "    \n",
    "    參數:\n",
    "    name (str): 要問候的人的名字。\n",
    "    greeting (str): 問候語，默認為 \"Hello\"。\n",
    "    \n",
    "    傳出值:\n",
    "    str: 格式化的問候信息。\n",
    "    \"\"\"\n",
    "    return f\"{greeting}, {name}!\""
   ]
  },
  {
   "cell_type": "code",
   "execution_count": 6,
   "id": "ea7a9083",
   "metadata": {},
   "outputs": [
    {
     "name": "stdout",
     "output_type": "stream",
     "text": [
      "Help on function greet_person in module __main__:\n",
      "\n",
      "greet_person(name: str, greeting: str = '哈囉')\n",
      "    這個函數會根據提供的名字和問候語來打印問候信息。\n",
      "    \n",
      "    參數:\n",
      "    name (str): 要問候的人的名字。\n",
      "    greeting (str): 問候語，默認為 \"Hello\"。\n",
      "    \n",
      "    傳出值:\n",
      "    str: 格式化的問候信息。\n",
      "\n"
     ]
    }
   ],
   "source": [
    "help(greet_person)"
   ]
  },
  {
   "cell_type": "code",
   "execution_count": 9,
   "id": "0929bf4a",
   "metadata": {},
   "outputs": [
    {
     "name": "stdout",
     "output_type": "stream",
     "text": [
      "哈囉, robert!\n"
     ]
    }
   ],
   "source": [
    "# 使用最少的引數值呼叫\n",
    "print(greet_person(\"robert\"))"
   ]
  },
  {
   "cell_type": "code",
   "execution_count": 11,
   "id": "a2d22575",
   "metadata": {},
   "outputs": [
    {
     "name": "stdout",
     "output_type": "stream",
     "text": [
      "您好, robert!\n"
     ]
    }
   ],
   "source": [
    "# greeting,不要使用預設值\n",
    "print(greet_person(\"robert\",greeting=\"您好\"))"
   ]
  },
  {
   "cell_type": "code",
   "execution_count": 12,
   "id": "adcda950",
   "metadata": {},
   "outputs": [],
   "source": [
    "# todo:建立一個BMI計算機\n",
    "# 名稱:calculate_bmi\n",
    "# 參數:weight,height\n",
    "# 傳出值(tuple):(bmi,status)\n",
    "\n",
    "def calculate_bmi(weight:float, height:float) -> tuple:\n",
    "    \"\"\"\n",
    "    計算BMI並根據BMI值返回健康狀態。\n",
    "    \n",
    "    參數:\n",
    "    weight (float): 體重(公斤)。\n",
    "    height (float): 身高(公尺)。\n",
    "    \n",
    "    傳出值:\n",
    "    tuple: 包含BMI值和健康狀態的元組。\n",
    "    \"\"\"\n",
    "    bmi = weight / (height ** 2)\n",
    "    \n",
    "    if bmi < 18.5:\n",
    "        status = \"體重過輕\"\n",
    "    elif 18.5 <= bmi < 24:\n",
    "        status = \"體重正常\"\n",
    "    elif 24 <= bmi < 27:\n",
    "        status = \"體重過重\"\n",
    "    elif 27 <= bmi < 30:\n",
    "        status = \"輕度肥胖\"\n",
    "    elif 30 <= bmi < 35:\n",
    "        status = \"中度肥胖\"\n",
    "    else:\n",
    "        status = \"重度肥胖\"\n",
    "    \n",
    "    return (bmi, status)"
   ]
  },
  {
   "cell_type": "code",
   "execution_count": 15,
   "id": "bd6f5307",
   "metadata": {},
   "outputs": [
    {
     "name": "stdout",
     "output_type": "stream",
     "text": [
      "您的bmi是22.86,您的狀態是體重正常\n"
     ]
    }
   ],
   "source": [
    "#tuple的拆解法\n",
    "bmi, status = calculate_bmi(70, 1.75)\n",
    "print(f\"您的bmi是{bmi:.2f},您的狀態是{status}\")"
   ]
  },
  {
   "cell_type": "code",
   "execution_count": 35,
   "id": "e6b1bbc0",
   "metadata": {},
   "outputs": [],
   "source": [
    "# todo:自訂一個密碼驗證器\n",
    "# 參數(str): password\n",
    "# 功能: \n",
    "#   - 最少需要8個字元\n",
    "#   - 如果有數字,有大寫字元,有小寫字元,傳出**密碼強度:強**\n",
    "#   - 如果不是強,傳出**密碼強度:中等或弱\n",
    "\n",
    "def validate_password(password: str) -> str:\n",
    "    \"\"\"\n",
    "    驗證密碼的強度。\n",
    "    \n",
    "    參數:\n",
    "    password (str): 要驗證的密碼。\n",
    "    \n",
    "    傳出值:\n",
    "    str: 密碼強度 (\"強\", \"中等\", \"弱\")。\n",
    "    \"\"\"\n",
    "    # 提早離開function\n",
    "    if len(password) < 8:\n",
    "        return \"密碼強度: 弱 (長度不足)\"\n",
    "    \n",
    "    has_upper = any(c.isupper() for c in password)\n",
    "    has_lower = any(c.islower() for c in password)\n",
    "    has_digit = any(c.isdigit() for c in password)\n",
    "    \n",
    "    if has_upper and has_lower and has_digit:\n",
    "        return \"密碼強度: 強\"\n",
    "    else:\n",
    "        return \"密碼強度: 中等或弱\""
   ]
  },
  {
   "cell_type": "code",
   "execution_count": 32,
   "id": "650381e7",
   "metadata": {},
   "outputs": [
    {
     "data": {
      "text/plain": [
       "8"
      ]
     },
     "execution_count": 32,
     "metadata": {},
     "output_type": "execute_result"
    }
   ],
   "source": [
    "password = \"abc12345\"\n",
    "len(password)  # 8"
   ]
  },
  {
   "cell_type": "code",
   "execution_count": 33,
   "id": "c4742e1d",
   "metadata": {},
   "outputs": [
    {
     "data": {
      "text/plain": [
       "(False, True, True)"
      ]
     },
     "execution_count": 33,
     "metadata": {},
     "output_type": "execute_result"
    }
   ],
   "source": [
    "has_upper = any(c.isupper() for c in password)\n",
    "has_lower = any(c.islower() for c in password)\n",
    "has_digit = any(c.isdigit() for c in password)\n",
    "\n",
    "(has_upper, has_lower, has_digit)  # (True, True, True)"
   ]
  },
  {
   "cell_type": "code",
   "execution_count": 34,
   "id": "3533caac",
   "metadata": {},
   "outputs": [
    {
     "name": "stdout",
     "output_type": "stream",
     "text": [
      "密碼強度: 中等或弱\n"
     ]
    }
   ],
   "source": [
    "if has_upper and has_lower and has_digit:\n",
    "    print(\"密碼強度: 強\")\n",
    "else:\n",
    "    print(\"密碼強度: 中等或弱\")"
   ]
  },
  {
   "cell_type": "code",
   "execution_count": 38,
   "id": "cadd49c6",
   "metadata": {},
   "outputs": [
    {
     "data": {
      "text/plain": [
       "'密碼強度: 強'"
      ]
     },
     "execution_count": 38,
     "metadata": {},
     "output_type": "execute_result"
    }
   ],
   "source": [
    "validate_password(\"abc\")  # 密碼強度: 弱 (長度不足)\n",
    "validate_password(\"abcdefg8\")  # 密碼強度: 中等或弱\n",
    "validate_password(\"Abcdefg8\")  # 密碼強度: 強"
   ]
  }
 ],
 "metadata": {
  "kernelspec": {
   "display_name": "__2025_09_15_tvdi__",
   "language": "python",
   "name": "python3"
  },
  "language_info": {
   "codemirror_mode": {
    "name": "ipython",
    "version": 3
   },
   "file_extension": ".py",
   "mimetype": "text/x-python",
   "name": "python",
   "nbconvert_exporter": "python",
   "pygments_lexer": "ipython3",
   "version": "3.10.18"
  }
 },
 "nbformat": 4,
 "nbformat_minor": 5
}

{
 "cells": [
  {
   "cell_type": "code",
   "execution_count": 1,
   "id": "5d1d083d",
   "metadata": {},
   "outputs": [
    {
     "name": "stdout",
     "output_type": "stream",
     "text": [
      "Hello! Python!\n"
     ]
    }
   ],
   "source": [
    "print(\"Hello! Python!\")"
   ]
  },
  {
   "cell_type": "code",
   "execution_count": 4,
   "id": "f5d0994b",
   "metadata": {},
   "outputs": [
    {
     "name": "stdout",
     "output_type": "stream",
     "text": [
      "        *        \n",
      "       ***       \n",
      "      *****      \n",
      "     *********   \n",
      "    ***********  \n",
      "   ************* \n",
      "        |||      \n",
      "       =====     \n"
     ]
    }
   ],
   "source": [
    "# 定義一個沒有參數,沒有傳出值的function\n",
    "# todo:建立一個可以使用print()劃出聖誕樹的function\n",
    "# 必需要有說明docstring\n",
    "def draw_christmas_tree():\n",
    "    \"\"\"\n",
    "    這個函數會印出一個簡單的 ASCII 藝術聖誕樹。\n",
    "    \"\"\"\n",
    "    print(\"        *        \")\n",
    "    print(\"       ***       \")\n",
    "    print(\"      *****      \")\n",
    "    print(\"     *********   \")\n",
    "    print(\"    ***********  \")\n",
    "    print(\"   ************* \")\n",
    "    print(\"        |||      \")\n",
    "    print(\"       =====     \")\n",
    "\n",
    "draw_christmas_tree()\n",
    "    "
   ]
  },
  {
   "cell_type": "code",
   "execution_count": 5,
   "id": "81026523",
   "metadata": {},
   "outputs": [],
   "source": [
    "# 自訂的function,有參數,有傳出值\n",
    "# todo:建立一個簡單問候函數\n",
    "# 名稱:greet_person(snake_case)\n",
    "# 參數:name,greeting,greeting有預設值\n",
    "def greet_person(name:str, greeting:str=\"哈囉\"):\n",
    "    \"\"\"\n",
    "    這個函數會根據提供的名字和問候語來打印問候信息。\n",
    "    \n",
    "    參數:\n",
    "    name (str): 要問候的人的名字。\n",
    "    greeting (str): 問候語，默認為 \"Hello\"。\n",
    "    \n",
    "    傳出值:\n",
    "    str: 格式化的問候信息。\n",
    "    \"\"\"\n",
    "    return f\"{greeting}, {name}!\""
   ]
  },
  {
   "cell_type": "code",
   "execution_count": 6,
   "id": "ea7a9083",
   "metadata": {},
   "outputs": [
    {
     "name": "stdout",
     "output_type": "stream",
     "text": [
      "Help on function greet_person in module __main__:\n",
      "\n",
      "greet_person(name: str, greeting: str = '哈囉')\n",
      "    這個函數會根據提供的名字和問候語來打印問候信息。\n",
      "    \n",
      "    參數:\n",
      "    name (str): 要問候的人的名字。\n",
      "    greeting (str): 問候語，默認為 \"Hello\"。\n",
      "    \n",
      "    傳出值:\n",
      "    str: 格式化的問候信息。\n",
      "\n"
     ]
    }
   ],
   "source": [
    "help(greet_person)"
   ]
  },
  {
   "cell_type": "code",
   "execution_count": 9,
   "id": "0929bf4a",
   "metadata": {},
   "outputs": [
    {
     "name": "stdout",
     "output_type": "stream",
     "text": [
      "哈囉, robert!\n"
     ]
    }
   ],
   "source": [
    "# 使用最少的引數值呼叫\n",
    "print(greet_person(\"robert\"))"
   ]
  },
  {
   "cell_type": "code",
   "execution_count": 11,
   "id": "a2d22575",
   "metadata": {},
   "outputs": [
    {
     "name": "stdout",
     "output_type": "stream",
     "text": [
      "您好, robert!\n"
     ]
    }
   ],
   "source": [
    "# greeting,不要使用預設值\n",
    "print(greet_person(\"robert\",greeting=\"您好\"))"
   ]
  },
  {
   "cell_type": "code",
   "execution_count": 12,
   "id": "adcda950",
   "metadata": {},
   "outputs": [],
   "source": [
    "# todo:建立一個BMI計算機\n",
    "# 名稱:calculate_bmi\n",
    "# 參數:weight,height\n",
    "# 傳出值(tuple):(bmi,status)\n",
    "\n",
    "def calculate_bmi(weight:float, height:float) -> tuple:\n",
    "    \"\"\"\n",
    "    計算BMI並根據BMI值返回健康狀態。\n",
    "    \n",
    "    參數:\n",
    "    weight (float): 體重(公斤)。\n",
    "    height (float): 身高(公尺)。\n",
    "    \n",
    "    傳出值:\n",
    "    tuple: 包含BMI值和健康狀態的元組。\n",
    "    \"\"\"\n",
    "    bmi = weight / (height ** 2)\n",
    "    \n",
    "    if bmi < 18.5:\n",
    "        status = \"體重過輕\"\n",
    "    elif 18.5 <= bmi < 24:\n",
    "        status = \"體重正常\"\n",
    "    elif 24 <= bmi < 27:\n",
    "        status = \"體重過重\"\n",
    "    elif 27 <= bmi < 30:\n",
    "        status = \"輕度肥胖\"\n",
    "    elif 30 <= bmi < 35:\n",
    "        status = \"中度肥胖\"\n",
    "    else:\n",
    "        status = \"重度肥胖\"\n",
    "    \n",
    "    return (bmi, status)"
   ]
  },
  {
   "cell_type": "code",
   "execution_count": 15,
   "id": "bd6f5307",
   "metadata": {},
   "outputs": [
    {
     "name": "stdout",
     "output_type": "stream",
     "text": [
      "您的bmi是22.86,您的狀態是體重正常\n"
     ]
    }
   ],
   "source": [
    "#tuple的拆解法\n",
    "bmi, status = calculate_bmi(70, 1.75)\n",
    "print(f\"您的bmi是{bmi:.2f},您的狀態是{status}\")"
   ]
  }
 ],
 "metadata": {
  "kernelspec": {
   "display_name": "__2025_09_15_tvdi__",
   "language": "python",
   "name": "python3"
  },
  "language_info": {
   "codemirror_mode": {
    "name": "ipython",
    "version": 3
   },
   "file_extension": ".py",
   "mimetype": "text/x-python",
   "name": "python",
   "nbconvert_exporter": "python",
   "pygments_lexer": "ipython3",
   "version": "3.10.18"
  }
 },
 "nbformat": 4,
 "nbformat_minor": 5
}

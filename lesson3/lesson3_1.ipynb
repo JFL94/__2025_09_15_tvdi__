{
 "cells": [
  {
   "cell_type": "code",
   "execution_count": 1,
   "id": "d9bd5d78",
   "metadata": {},
   "outputs": [
    {
     "name": "stdout",
     "output_type": "stream",
     "text": [
      "Hello! Python!\n"
     ]
    }
   ],
   "source": [
    "print(\"Hello! Python!\")"
   ]
  },
  {
   "cell_type": "code",
   "execution_count": 17,
   "id": "20067627",
   "metadata": {},
   "outputs": [],
   "source": [
    "class Person:\n",
    "    def __init__(self,name): #自訂的初始化\n",
    "        self.name = name #建立attribute\n",
    "\n",
    "    def greeting(self): #自訂的實體方法\n",
    "        print(f\"您好:{self.name}\")\n",
    "\n",
    "\n"
   ]
  },
  {
   "cell_type": "code",
   "execution_count": 16,
   "id": "5e792427",
   "metadata": {},
   "outputs": [
    {
     "name": "stdout",
     "output_type": "stream",
     "text": [
      "您好:robert\n",
      "您好:jenny\n"
     ]
    }
   ],
   "source": [
    "p1:Person = Person(\"robert\")\n",
    "p1.greeting()\n",
    "\n",
    "p2:Person = Person(name=\"jenny\")\n",
    "p2.greeting()"
   ]
  },
  {
   "cell_type": "code",
   "execution_count": 18,
   "id": "de27298b",
   "metadata": {},
   "outputs": [],
   "source": [
    "class Student(Person):\n",
    "    pass"
   ]
  },
  {
   "cell_type": "code",
   "execution_count": 20,
   "id": "aace4225",
   "metadata": {},
   "outputs": [
    {
     "name": "stdout",
     "output_type": "stream",
     "text": [
      "Kevin\n",
      "您好:Kevin\n"
     ]
    }
   ],
   "source": [
    "s1 = Student(\"Kevin\")\n",
    "print(s1.name)\n",
    "s1.greeting()"
   ]
  }
 ],
 "metadata": {
  "kernelspec": {
   "display_name": "__2025_09_15_tvdi__",
   "language": "python",
   "name": "python3"
  },
  "language_info": {
   "codemirror_mode": {
    "name": "ipython",
    "version": 3
   },
   "file_extension": ".py",
   "mimetype": "text/x-python",
   "name": "python",
   "nbconvert_exporter": "python",
   "pygments_lexer": "ipython3",
   "version": "3.10.18"
  }
 },
 "nbformat": 4,
 "nbformat_minor": 5
}

{
 "cells": [
  {
   "cell_type": "code",
   "execution_count": 4,
   "id": "7daa2d04",
   "metadata": {},
   "outputs": [
    {
     "name": "stdout",
     "output_type": "stream",
     "text": [
      "出現錯誤\n"
     ]
    }
   ],
   "source": [
    "try:\n",
    "    raise NameError(\"名字錯誤\")\n",
    "except:\n",
    "    print(\"出現錯誤\")\n",
    "else:\n",
    "    print(\"沒有錯誤\")"
   ]
  }
 ],
 "metadata": {
  "kernelspec": {
   "display_name": "__2025_09_15_tvdi__",
   "language": "python",
   "name": "python3"
  },
  "language_info": {
   "codemirror_mode": {
    "name": "ipython",
    "version": 3
   },
   "file_extension": ".py",
   "mimetype": "text/x-python",
   "name": "python",
   "nbconvert_exporter": "python",
   "pygments_lexer": "ipython3",
   "version": "3.10.18"
  }
 },
 "nbformat": 4,
 "nbformat_minor": 5
}
